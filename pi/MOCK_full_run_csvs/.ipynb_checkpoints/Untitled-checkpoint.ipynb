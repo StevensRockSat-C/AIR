{
 "cells": [
  {
   "cell_type": "code",
   "execution_count": null,
   "id": "fa8c0a85-be30-40a4-8b53-99432794f27d",
   "metadata": {},
   "outputs": [],
   "source": [
    "#make files"
   ]
  },
  {
   "cell_type": "code",
   "execution_count": 6,
   "id": "e90ef1b3-4364-4437-abdd-d568702df795",
   "metadata": {},
   "outputs": [],
   "source": [
    "change_val = 65002\n",
    "x=0\n",
    "output_log = open(\"T1_ALL_GOOD_tank_pressures.csv\", 'x')\n",
    "while x < 25064:\n",
    "    output_log.write(\"101.1\\n\")\n",
    "    x+=1\n",
    "while x < (change_val + 30000):\n",
    "    output_log.write(\"1300\\n\")\n",
    "    x+=1\n",
    "output_log.write(\"1300\")\n",
    "output_log.close()             "
   ]
  },
  {
   "cell_type": "code",
   "execution_count": null,
   "id": "e45ae7b9-33aa-49c9-9c8f-65cbbcb84925",
   "metadata": {},
   "outputs": [],
   "source": []
  }
 ],
 "metadata": {
  "kernelspec": {
   "display_name": "Python 3 (ipykernel)",
   "language": "python",
   "name": "python3"
  },
  "language_info": {
   "codemirror_mode": {
    "name": "ipython",
    "version": 3
   },
   "file_extension": ".py",
   "mimetype": "text/x-python",
   "name": "python",
   "nbconvert_exporter": "python",
   "pygments_lexer": "ipython3",
   "version": "3.12.7"
  }
 },
 "nbformat": 4,
 "nbformat_minor": 5
}
